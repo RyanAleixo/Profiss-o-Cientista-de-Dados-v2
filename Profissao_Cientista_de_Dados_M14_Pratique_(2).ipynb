{
  "nbformat": 4,
  "nbformat_minor": 0,
  "metadata": {
    "colab": {
      "provenance": [],
      "include_colab_link": true
    },
    "kernelspec": {
      "name": "python3",
      "display_name": "Python 3"
    },
    "language_info": {
      "name": "python"
    }
  },
  "cells": [
    {
      "cell_type": "markdown",
      "metadata": {
        "id": "view-in-github",
        "colab_type": "text"
      },
      "source": [
        "<a href=\"https://colab.research.google.com/github/RyanAleixo/Profiss-o-Cientista-de-Dados-v2/blob/main/Profissao_Cientista_de_Dados_M14_Pratique_(2).ipynb\" target=\"_parent\"><img src=\"https://colab.research.google.com/assets/colab-badge.svg\" alt=\"Open In Colab\"/></a>"
      ]
    },
    {
      "cell_type": "markdown",
      "source": [
        "# **MÓDULO 14 - Exercício**\n",
        "# Pré Processamento dos Dados - A primeira etapa Pré Modelagem"
      ],
      "metadata": {
        "id": "oRsiqY067PIY"
      }
    },
    {
      "cell_type": "markdown",
      "source": [
        "Para nossa atividade usaremos uma base de churn também, porém essa base não diz respeito a serviços bancários e sim serviços de internet, telefone e tv - Telecomunicação.\n",
        "\n",
        "Vamos realizar aqui as etapas de limpeza e tratamento de dados vistos durante a aula, porém aplicados a essa base nova."
      ],
      "metadata": {
        "id": "z_xy2WNB7Zil"
      }
    },
    {
      "cell_type": "code",
      "execution_count": 1,
      "metadata": {
        "id": "JT5cIPR07GqI"
      },
      "outputs": [],
      "source": [
        "import seaborn as sns\n",
        "import matplotlib.pyplot as plt\n",
        "import pandas as pd\n",
        "from google.colab import files\n",
        "import io"
      ]
    },
    {
      "cell_type": "code",
      "source": [
        "#Lembrem-se sempre de alterar a importação dos dados de acordo com o diretório de vocês.\n",
        "\n",
        "uploaded = files.upload()\n",
        "file_name = next(iter(uploaded))\n",
        "\n",
        "\n",
        "df = pd.read_csv(file_name, delimiter=';')\n",
        "\n",
        "\n",
        "df.head(10)"
      ],
      "metadata": {
        "colab": {
          "base_uri": "https://localhost:8080/",
          "height": 471
        },
        "id": "YpQybbwr76nX",
        "outputId": "4e67d0c6-4126-485e-f95f-b8d73ecd4461"
      },
      "execution_count": 2,
      "outputs": [
        {
          "output_type": "display_data",
          "data": {
            "text/plain": [
              "<IPython.core.display.HTML object>"
            ],
            "text/html": [
              "\n",
              "     <input type=\"file\" id=\"files-41db2d3e-2bf4-491d-805a-e5feb51dc49a\" name=\"files[]\" multiple disabled\n",
              "        style=\"border:none\" />\n",
              "     <output id=\"result-41db2d3e-2bf4-491d-805a-e5feb51dc49a\">\n",
              "      Upload widget is only available when the cell has been executed in the\n",
              "      current browser session. Please rerun this cell to enable.\n",
              "      </output>\n",
              "      <script>// Copyright 2017 Google LLC\n",
              "//\n",
              "// Licensed under the Apache License, Version 2.0 (the \"License\");\n",
              "// you may not use this file except in compliance with the License.\n",
              "// You may obtain a copy of the License at\n",
              "//\n",
              "//      http://www.apache.org/licenses/LICENSE-2.0\n",
              "//\n",
              "// Unless required by applicable law or agreed to in writing, software\n",
              "// distributed under the License is distributed on an \"AS IS\" BASIS,\n",
              "// WITHOUT WARRANTIES OR CONDITIONS OF ANY KIND, either express or implied.\n",
              "// See the License for the specific language governing permissions and\n",
              "// limitations under the License.\n",
              "\n",
              "/**\n",
              " * @fileoverview Helpers for google.colab Python module.\n",
              " */\n",
              "(function(scope) {\n",
              "function span(text, styleAttributes = {}) {\n",
              "  const element = document.createElement('span');\n",
              "  element.textContent = text;\n",
              "  for (const key of Object.keys(styleAttributes)) {\n",
              "    element.style[key] = styleAttributes[key];\n",
              "  }\n",
              "  return element;\n",
              "}\n",
              "\n",
              "// Max number of bytes which will be uploaded at a time.\n",
              "const MAX_PAYLOAD_SIZE = 100 * 1024;\n",
              "\n",
              "function _uploadFiles(inputId, outputId) {\n",
              "  const steps = uploadFilesStep(inputId, outputId);\n",
              "  const outputElement = document.getElementById(outputId);\n",
              "  // Cache steps on the outputElement to make it available for the next call\n",
              "  // to uploadFilesContinue from Python.\n",
              "  outputElement.steps = steps;\n",
              "\n",
              "  return _uploadFilesContinue(outputId);\n",
              "}\n",
              "\n",
              "// This is roughly an async generator (not supported in the browser yet),\n",
              "// where there are multiple asynchronous steps and the Python side is going\n",
              "// to poll for completion of each step.\n",
              "// This uses a Promise to block the python side on completion of each step,\n",
              "// then passes the result of the previous step as the input to the next step.\n",
              "function _uploadFilesContinue(outputId) {\n",
              "  const outputElement = document.getElementById(outputId);\n",
              "  const steps = outputElement.steps;\n",
              "\n",
              "  const next = steps.next(outputElement.lastPromiseValue);\n",
              "  return Promise.resolve(next.value.promise).then((value) => {\n",
              "    // Cache the last promise value to make it available to the next\n",
              "    // step of the generator.\n",
              "    outputElement.lastPromiseValue = value;\n",
              "    return next.value.response;\n",
              "  });\n",
              "}\n",
              "\n",
              "/**\n",
              " * Generator function which is called between each async step of the upload\n",
              " * process.\n",
              " * @param {string} inputId Element ID of the input file picker element.\n",
              " * @param {string} outputId Element ID of the output display.\n",
              " * @return {!Iterable<!Object>} Iterable of next steps.\n",
              " */\n",
              "function* uploadFilesStep(inputId, outputId) {\n",
              "  const inputElement = document.getElementById(inputId);\n",
              "  inputElement.disabled = false;\n",
              "\n",
              "  const outputElement = document.getElementById(outputId);\n",
              "  outputElement.innerHTML = '';\n",
              "\n",
              "  const pickedPromise = new Promise((resolve) => {\n",
              "    inputElement.addEventListener('change', (e) => {\n",
              "      resolve(e.target.files);\n",
              "    });\n",
              "  });\n",
              "\n",
              "  const cancel = document.createElement('button');\n",
              "  inputElement.parentElement.appendChild(cancel);\n",
              "  cancel.textContent = 'Cancel upload';\n",
              "  const cancelPromise = new Promise((resolve) => {\n",
              "    cancel.onclick = () => {\n",
              "      resolve(null);\n",
              "    };\n",
              "  });\n",
              "\n",
              "  // Wait for the user to pick the files.\n",
              "  const files = yield {\n",
              "    promise: Promise.race([pickedPromise, cancelPromise]),\n",
              "    response: {\n",
              "      action: 'starting',\n",
              "    }\n",
              "  };\n",
              "\n",
              "  cancel.remove();\n",
              "\n",
              "  // Disable the input element since further picks are not allowed.\n",
              "  inputElement.disabled = true;\n",
              "\n",
              "  if (!files) {\n",
              "    return {\n",
              "      response: {\n",
              "        action: 'complete',\n",
              "      }\n",
              "    };\n",
              "  }\n",
              "\n",
              "  for (const file of files) {\n",
              "    const li = document.createElement('li');\n",
              "    li.append(span(file.name, {fontWeight: 'bold'}));\n",
              "    li.append(span(\n",
              "        `(${file.type || 'n/a'}) - ${file.size} bytes, ` +\n",
              "        `last modified: ${\n",
              "            file.lastModifiedDate ? file.lastModifiedDate.toLocaleDateString() :\n",
              "                                    'n/a'} - `));\n",
              "    const percent = span('0% done');\n",
              "    li.appendChild(percent);\n",
              "\n",
              "    outputElement.appendChild(li);\n",
              "\n",
              "    const fileDataPromise = new Promise((resolve) => {\n",
              "      const reader = new FileReader();\n",
              "      reader.onload = (e) => {\n",
              "        resolve(e.target.result);\n",
              "      };\n",
              "      reader.readAsArrayBuffer(file);\n",
              "    });\n",
              "    // Wait for the data to be ready.\n",
              "    let fileData = yield {\n",
              "      promise: fileDataPromise,\n",
              "      response: {\n",
              "        action: 'continue',\n",
              "      }\n",
              "    };\n",
              "\n",
              "    // Use a chunked sending to avoid message size limits. See b/62115660.\n",
              "    let position = 0;\n",
              "    do {\n",
              "      const length = Math.min(fileData.byteLength - position, MAX_PAYLOAD_SIZE);\n",
              "      const chunk = new Uint8Array(fileData, position, length);\n",
              "      position += length;\n",
              "\n",
              "      const base64 = btoa(String.fromCharCode.apply(null, chunk));\n",
              "      yield {\n",
              "        response: {\n",
              "          action: 'append',\n",
              "          file: file.name,\n",
              "          data: base64,\n",
              "        },\n",
              "      };\n",
              "\n",
              "      let percentDone = fileData.byteLength === 0 ?\n",
              "          100 :\n",
              "          Math.round((position / fileData.byteLength) * 100);\n",
              "      percent.textContent = `${percentDone}% done`;\n",
              "\n",
              "    } while (position < fileData.byteLength);\n",
              "  }\n",
              "\n",
              "  // All done.\n",
              "  yield {\n",
              "    response: {\n",
              "      action: 'complete',\n",
              "    }\n",
              "  };\n",
              "}\n",
              "\n",
              "scope.google = scope.google || {};\n",
              "scope.google.colab = scope.google.colab || {};\n",
              "scope.google.colab._files = {\n",
              "  _uploadFiles,\n",
              "  _uploadFilesContinue,\n",
              "};\n",
              "})(self);\n",
              "</script> "
            ]
          },
          "metadata": {}
        },
        {
          "output_type": "stream",
          "name": "stdout",
          "text": [
            "Saving CHURN_TELECON_MOD08_TAREFA.csv to CHURN_TELECON_MOD08_TAREFA (2).csv\n"
          ]
        },
        {
          "output_type": "execute_result",
          "data": {
            "text/plain": [
              "   customerID  Genero  Idoso Casado Dependents  Tempo_como_Cliente  \\\n",
              "0  7590-VHVEG  Female      0    Yes         No                   1   \n",
              "1  5575-GNVDE    Male      0     No         No                  34   \n",
              "2  3668-QPYBK    Male      0     No         No                   2   \n",
              "3  7795-CFOCW    Male      0     No         No                  45   \n",
              "4  9237-HQITU     NaN      0     No         No                   2   \n",
              "5  9305-CDSKC     NaN      0     No         No                   8   \n",
              "6  1452-KIOVK     NaN      0     No        Yes                  22   \n",
              "7  6713-OKOMC     NaN      0     No         No                  10   \n",
              "8  7892-POOKP     NaN      0    Yes         No                  28   \n",
              "9  6388-TABGU     NaN      0     No        Yes                  62   \n",
              "\n",
              "  PhoneService Servico_Internet Servico_Seguranca Suporte_Tecnico StreamingTV  \\\n",
              "0           No              DSL                No              No          No   \n",
              "1          Yes              DSL               Yes              No          No   \n",
              "2          Yes              DSL               Yes              No          No   \n",
              "3           No              DSL               Yes             Yes          No   \n",
              "4          Yes      Fiber optic                No              No          No   \n",
              "5          Yes      Fiber optic                No              No         Yes   \n",
              "6          Yes      Fiber optic                No              No         Yes   \n",
              "7           No              DSL               Yes              No          No   \n",
              "8          Yes      Fiber optic                No             Yes         Yes   \n",
              "9          Yes              dsl               Yes              No          No   \n",
              "\n",
              "    Tipo_Contrato              PaymentMethod  Pagamento_Mensal  Total_Pago  \\\n",
              "0  Month-to-month           Electronic check             29.85       29.85   \n",
              "1        One year               Mailed check             56.95     1889.50   \n",
              "2  Month-to-month               Mailed check             53.85      108.15   \n",
              "3        One year  Bank transfer (automatic)               NaN     1840.75   \n",
              "4  Month-to-month           Electronic check               NaN      151.65   \n",
              "5  Month-to-month           Electronic check               NaN      820.50   \n",
              "6  Month-to-month    Credit card (automatic)               NaN     1949.40   \n",
              "7  Month-to-month               Mailed check               NaN      301.90   \n",
              "8  Month-to-month           Electronic check               NaN     3046.05   \n",
              "9        One year  Bank transfer (automatic)               NaN     3487.95   \n",
              "\n",
              "  Churn  \n",
              "0    No  \n",
              "1    No  \n",
              "2   Yes  \n",
              "3    No  \n",
              "4   Yes  \n",
              "5   NaN  \n",
              "6   NaN  \n",
              "7   NaN  \n",
              "8   NaN  \n",
              "9   NaN  "
            ],
            "text/html": [
              "\n",
              "  <div id=\"df-b0acc386-112e-4554-9503-c129d61db54c\" class=\"colab-df-container\">\n",
              "    <div>\n",
              "<style scoped>\n",
              "    .dataframe tbody tr th:only-of-type {\n",
              "        vertical-align: middle;\n",
              "    }\n",
              "\n",
              "    .dataframe tbody tr th {\n",
              "        vertical-align: top;\n",
              "    }\n",
              "\n",
              "    .dataframe thead th {\n",
              "        text-align: right;\n",
              "    }\n",
              "</style>\n",
              "<table border=\"1\" class=\"dataframe\">\n",
              "  <thead>\n",
              "    <tr style=\"text-align: right;\">\n",
              "      <th></th>\n",
              "      <th>customerID</th>\n",
              "      <th>Genero</th>\n",
              "      <th>Idoso</th>\n",
              "      <th>Casado</th>\n",
              "      <th>Dependents</th>\n",
              "      <th>Tempo_como_Cliente</th>\n",
              "      <th>PhoneService</th>\n",
              "      <th>Servico_Internet</th>\n",
              "      <th>Servico_Seguranca</th>\n",
              "      <th>Suporte_Tecnico</th>\n",
              "      <th>StreamingTV</th>\n",
              "      <th>Tipo_Contrato</th>\n",
              "      <th>PaymentMethod</th>\n",
              "      <th>Pagamento_Mensal</th>\n",
              "      <th>Total_Pago</th>\n",
              "      <th>Churn</th>\n",
              "    </tr>\n",
              "  </thead>\n",
              "  <tbody>\n",
              "    <tr>\n",
              "      <th>0</th>\n",
              "      <td>7590-VHVEG</td>\n",
              "      <td>Female</td>\n",
              "      <td>0</td>\n",
              "      <td>Yes</td>\n",
              "      <td>No</td>\n",
              "      <td>1</td>\n",
              "      <td>No</td>\n",
              "      <td>DSL</td>\n",
              "      <td>No</td>\n",
              "      <td>No</td>\n",
              "      <td>No</td>\n",
              "      <td>Month-to-month</td>\n",
              "      <td>Electronic check</td>\n",
              "      <td>29.85</td>\n",
              "      <td>29.85</td>\n",
              "      <td>No</td>\n",
              "    </tr>\n",
              "    <tr>\n",
              "      <th>1</th>\n",
              "      <td>5575-GNVDE</td>\n",
              "      <td>Male</td>\n",
              "      <td>0</td>\n",
              "      <td>No</td>\n",
              "      <td>No</td>\n",
              "      <td>34</td>\n",
              "      <td>Yes</td>\n",
              "      <td>DSL</td>\n",
              "      <td>Yes</td>\n",
              "      <td>No</td>\n",
              "      <td>No</td>\n",
              "      <td>One year</td>\n",
              "      <td>Mailed check</td>\n",
              "      <td>56.95</td>\n",
              "      <td>1889.50</td>\n",
              "      <td>No</td>\n",
              "    </tr>\n",
              "    <tr>\n",
              "      <th>2</th>\n",
              "      <td>3668-QPYBK</td>\n",
              "      <td>Male</td>\n",
              "      <td>0</td>\n",
              "      <td>No</td>\n",
              "      <td>No</td>\n",
              "      <td>2</td>\n",
              "      <td>Yes</td>\n",
              "      <td>DSL</td>\n",
              "      <td>Yes</td>\n",
              "      <td>No</td>\n",
              "      <td>No</td>\n",
              "      <td>Month-to-month</td>\n",
              "      <td>Mailed check</td>\n",
              "      <td>53.85</td>\n",
              "      <td>108.15</td>\n",
              "      <td>Yes</td>\n",
              "    </tr>\n",
              "    <tr>\n",
              "      <th>3</th>\n",
              "      <td>7795-CFOCW</td>\n",
              "      <td>Male</td>\n",
              "      <td>0</td>\n",
              "      <td>No</td>\n",
              "      <td>No</td>\n",
              "      <td>45</td>\n",
              "      <td>No</td>\n",
              "      <td>DSL</td>\n",
              "      <td>Yes</td>\n",
              "      <td>Yes</td>\n",
              "      <td>No</td>\n",
              "      <td>One year</td>\n",
              "      <td>Bank transfer (automatic)</td>\n",
              "      <td>NaN</td>\n",
              "      <td>1840.75</td>\n",
              "      <td>No</td>\n",
              "    </tr>\n",
              "    <tr>\n",
              "      <th>4</th>\n",
              "      <td>9237-HQITU</td>\n",
              "      <td>NaN</td>\n",
              "      <td>0</td>\n",
              "      <td>No</td>\n",
              "      <td>No</td>\n",
              "      <td>2</td>\n",
              "      <td>Yes</td>\n",
              "      <td>Fiber optic</td>\n",
              "      <td>No</td>\n",
              "      <td>No</td>\n",
              "      <td>No</td>\n",
              "      <td>Month-to-month</td>\n",
              "      <td>Electronic check</td>\n",
              "      <td>NaN</td>\n",
              "      <td>151.65</td>\n",
              "      <td>Yes</td>\n",
              "    </tr>\n",
              "    <tr>\n",
              "      <th>5</th>\n",
              "      <td>9305-CDSKC</td>\n",
              "      <td>NaN</td>\n",
              "      <td>0</td>\n",
              "      <td>No</td>\n",
              "      <td>No</td>\n",
              "      <td>8</td>\n",
              "      <td>Yes</td>\n",
              "      <td>Fiber optic</td>\n",
              "      <td>No</td>\n",
              "      <td>No</td>\n",
              "      <td>Yes</td>\n",
              "      <td>Month-to-month</td>\n",
              "      <td>Electronic check</td>\n",
              "      <td>NaN</td>\n",
              "      <td>820.50</td>\n",
              "      <td>NaN</td>\n",
              "    </tr>\n",
              "    <tr>\n",
              "      <th>6</th>\n",
              "      <td>1452-KIOVK</td>\n",
              "      <td>NaN</td>\n",
              "      <td>0</td>\n",
              "      <td>No</td>\n",
              "      <td>Yes</td>\n",
              "      <td>22</td>\n",
              "      <td>Yes</td>\n",
              "      <td>Fiber optic</td>\n",
              "      <td>No</td>\n",
              "      <td>No</td>\n",
              "      <td>Yes</td>\n",
              "      <td>Month-to-month</td>\n",
              "      <td>Credit card (automatic)</td>\n",
              "      <td>NaN</td>\n",
              "      <td>1949.40</td>\n",
              "      <td>NaN</td>\n",
              "    </tr>\n",
              "    <tr>\n",
              "      <th>7</th>\n",
              "      <td>6713-OKOMC</td>\n",
              "      <td>NaN</td>\n",
              "      <td>0</td>\n",
              "      <td>No</td>\n",
              "      <td>No</td>\n",
              "      <td>10</td>\n",
              "      <td>No</td>\n",
              "      <td>DSL</td>\n",
              "      <td>Yes</td>\n",
              "      <td>No</td>\n",
              "      <td>No</td>\n",
              "      <td>Month-to-month</td>\n",
              "      <td>Mailed check</td>\n",
              "      <td>NaN</td>\n",
              "      <td>301.90</td>\n",
              "      <td>NaN</td>\n",
              "    </tr>\n",
              "    <tr>\n",
              "      <th>8</th>\n",
              "      <td>7892-POOKP</td>\n",
              "      <td>NaN</td>\n",
              "      <td>0</td>\n",
              "      <td>Yes</td>\n",
              "      <td>No</td>\n",
              "      <td>28</td>\n",
              "      <td>Yes</td>\n",
              "      <td>Fiber optic</td>\n",
              "      <td>No</td>\n",
              "      <td>Yes</td>\n",
              "      <td>Yes</td>\n",
              "      <td>Month-to-month</td>\n",
              "      <td>Electronic check</td>\n",
              "      <td>NaN</td>\n",
              "      <td>3046.05</td>\n",
              "      <td>NaN</td>\n",
              "    </tr>\n",
              "    <tr>\n",
              "      <th>9</th>\n",
              "      <td>6388-TABGU</td>\n",
              "      <td>NaN</td>\n",
              "      <td>0</td>\n",
              "      <td>No</td>\n",
              "      <td>Yes</td>\n",
              "      <td>62</td>\n",
              "      <td>Yes</td>\n",
              "      <td>dsl</td>\n",
              "      <td>Yes</td>\n",
              "      <td>No</td>\n",
              "      <td>No</td>\n",
              "      <td>One year</td>\n",
              "      <td>Bank transfer (automatic)</td>\n",
              "      <td>NaN</td>\n",
              "      <td>3487.95</td>\n",
              "      <td>NaN</td>\n",
              "    </tr>\n",
              "  </tbody>\n",
              "</table>\n",
              "</div>\n",
              "    <div class=\"colab-df-buttons\">\n",
              "\n",
              "  <div class=\"colab-df-container\">\n",
              "    <button class=\"colab-df-convert\" onclick=\"convertToInteractive('df-b0acc386-112e-4554-9503-c129d61db54c')\"\n",
              "            title=\"Convert this dataframe to an interactive table.\"\n",
              "            style=\"display:none;\">\n",
              "\n",
              "  <svg xmlns=\"http://www.w3.org/2000/svg\" height=\"24px\" viewBox=\"0 -960 960 960\">\n",
              "    <path d=\"M120-120v-720h720v720H120Zm60-500h600v-160H180v160Zm220 220h160v-160H400v160Zm0 220h160v-160H400v160ZM180-400h160v-160H180v160Zm440 0h160v-160H620v160ZM180-180h160v-160H180v160Zm440 0h160v-160H620v160Z\"/>\n",
              "  </svg>\n",
              "    </button>\n",
              "\n",
              "  <style>\n",
              "    .colab-df-container {\n",
              "      display:flex;\n",
              "      gap: 12px;\n",
              "    }\n",
              "\n",
              "    .colab-df-convert {\n",
              "      background-color: #E8F0FE;\n",
              "      border: none;\n",
              "      border-radius: 50%;\n",
              "      cursor: pointer;\n",
              "      display: none;\n",
              "      fill: #1967D2;\n",
              "      height: 32px;\n",
              "      padding: 0 0 0 0;\n",
              "      width: 32px;\n",
              "    }\n",
              "\n",
              "    .colab-df-convert:hover {\n",
              "      background-color: #E2EBFA;\n",
              "      box-shadow: 0px 1px 2px rgba(60, 64, 67, 0.3), 0px 1px 3px 1px rgba(60, 64, 67, 0.15);\n",
              "      fill: #174EA6;\n",
              "    }\n",
              "\n",
              "    .colab-df-buttons div {\n",
              "      margin-bottom: 4px;\n",
              "    }\n",
              "\n",
              "    [theme=dark] .colab-df-convert {\n",
              "      background-color: #3B4455;\n",
              "      fill: #D2E3FC;\n",
              "    }\n",
              "\n",
              "    [theme=dark] .colab-df-convert:hover {\n",
              "      background-color: #434B5C;\n",
              "      box-shadow: 0px 1px 3px 1px rgba(0, 0, 0, 0.15);\n",
              "      filter: drop-shadow(0px 1px 2px rgba(0, 0, 0, 0.3));\n",
              "      fill: #FFFFFF;\n",
              "    }\n",
              "  </style>\n",
              "\n",
              "    <script>\n",
              "      const buttonEl =\n",
              "        document.querySelector('#df-b0acc386-112e-4554-9503-c129d61db54c button.colab-df-convert');\n",
              "      buttonEl.style.display =\n",
              "        google.colab.kernel.accessAllowed ? 'block' : 'none';\n",
              "\n",
              "      async function convertToInteractive(key) {\n",
              "        const element = document.querySelector('#df-b0acc386-112e-4554-9503-c129d61db54c');\n",
              "        const dataTable =\n",
              "          await google.colab.kernel.invokeFunction('convertToInteractive',\n",
              "                                                    [key], {});\n",
              "        if (!dataTable) return;\n",
              "\n",
              "        const docLinkHtml = 'Like what you see? Visit the ' +\n",
              "          '<a target=\"_blank\" href=https://colab.research.google.com/notebooks/data_table.ipynb>data table notebook</a>'\n",
              "          + ' to learn more about interactive tables.';\n",
              "        element.innerHTML = '';\n",
              "        dataTable['output_type'] = 'display_data';\n",
              "        await google.colab.output.renderOutput(dataTable, element);\n",
              "        const docLink = document.createElement('div');\n",
              "        docLink.innerHTML = docLinkHtml;\n",
              "        element.appendChild(docLink);\n",
              "      }\n",
              "    </script>\n",
              "  </div>\n",
              "\n",
              "\n",
              "    <div id=\"df-c7177aff-095b-4702-8b06-75defce63abe\">\n",
              "      <button class=\"colab-df-quickchart\" onclick=\"quickchart('df-c7177aff-095b-4702-8b06-75defce63abe')\"\n",
              "                title=\"Suggest charts\"\n",
              "                style=\"display:none;\">\n",
              "\n",
              "<svg xmlns=\"http://www.w3.org/2000/svg\" height=\"24px\"viewBox=\"0 0 24 24\"\n",
              "     width=\"24px\">\n",
              "    <g>\n",
              "        <path d=\"M19 3H5c-1.1 0-2 .9-2 2v14c0 1.1.9 2 2 2h14c1.1 0 2-.9 2-2V5c0-1.1-.9-2-2-2zM9 17H7v-7h2v7zm4 0h-2V7h2v10zm4 0h-2v-4h2v4z\"/>\n",
              "    </g>\n",
              "</svg>\n",
              "      </button>\n",
              "\n",
              "<style>\n",
              "  .colab-df-quickchart {\n",
              "      --bg-color: #E8F0FE;\n",
              "      --fill-color: #1967D2;\n",
              "      --hover-bg-color: #E2EBFA;\n",
              "      --hover-fill-color: #174EA6;\n",
              "      --disabled-fill-color: #AAA;\n",
              "      --disabled-bg-color: #DDD;\n",
              "  }\n",
              "\n",
              "  [theme=dark] .colab-df-quickchart {\n",
              "      --bg-color: #3B4455;\n",
              "      --fill-color: #D2E3FC;\n",
              "      --hover-bg-color: #434B5C;\n",
              "      --hover-fill-color: #FFFFFF;\n",
              "      --disabled-bg-color: #3B4455;\n",
              "      --disabled-fill-color: #666;\n",
              "  }\n",
              "\n",
              "  .colab-df-quickchart {\n",
              "    background-color: var(--bg-color);\n",
              "    border: none;\n",
              "    border-radius: 50%;\n",
              "    cursor: pointer;\n",
              "    display: none;\n",
              "    fill: var(--fill-color);\n",
              "    height: 32px;\n",
              "    padding: 0;\n",
              "    width: 32px;\n",
              "  }\n",
              "\n",
              "  .colab-df-quickchart:hover {\n",
              "    background-color: var(--hover-bg-color);\n",
              "    box-shadow: 0 1px 2px rgba(60, 64, 67, 0.3), 0 1px 3px 1px rgba(60, 64, 67, 0.15);\n",
              "    fill: var(--button-hover-fill-color);\n",
              "  }\n",
              "\n",
              "  .colab-df-quickchart-complete:disabled,\n",
              "  .colab-df-quickchart-complete:disabled:hover {\n",
              "    background-color: var(--disabled-bg-color);\n",
              "    fill: var(--disabled-fill-color);\n",
              "    box-shadow: none;\n",
              "  }\n",
              "\n",
              "  .colab-df-spinner {\n",
              "    border: 2px solid var(--fill-color);\n",
              "    border-color: transparent;\n",
              "    border-bottom-color: var(--fill-color);\n",
              "    animation:\n",
              "      spin 1s steps(1) infinite;\n",
              "  }\n",
              "\n",
              "  @keyframes spin {\n",
              "    0% {\n",
              "      border-color: transparent;\n",
              "      border-bottom-color: var(--fill-color);\n",
              "      border-left-color: var(--fill-color);\n",
              "    }\n",
              "    20% {\n",
              "      border-color: transparent;\n",
              "      border-left-color: var(--fill-color);\n",
              "      border-top-color: var(--fill-color);\n",
              "    }\n",
              "    30% {\n",
              "      border-color: transparent;\n",
              "      border-left-color: var(--fill-color);\n",
              "      border-top-color: var(--fill-color);\n",
              "      border-right-color: var(--fill-color);\n",
              "    }\n",
              "    40% {\n",
              "      border-color: transparent;\n",
              "      border-right-color: var(--fill-color);\n",
              "      border-top-color: var(--fill-color);\n",
              "    }\n",
              "    60% {\n",
              "      border-color: transparent;\n",
              "      border-right-color: var(--fill-color);\n",
              "    }\n",
              "    80% {\n",
              "      border-color: transparent;\n",
              "      border-right-color: var(--fill-color);\n",
              "      border-bottom-color: var(--fill-color);\n",
              "    }\n",
              "    90% {\n",
              "      border-color: transparent;\n",
              "      border-bottom-color: var(--fill-color);\n",
              "    }\n",
              "  }\n",
              "</style>\n",
              "\n",
              "      <script>\n",
              "        async function quickchart(key) {\n",
              "          const quickchartButtonEl =\n",
              "            document.querySelector('#' + key + ' button');\n",
              "          quickchartButtonEl.disabled = true;  // To prevent multiple clicks.\n",
              "          quickchartButtonEl.classList.add('colab-df-spinner');\n",
              "          try {\n",
              "            const charts = await google.colab.kernel.invokeFunction(\n",
              "                'suggestCharts', [key], {});\n",
              "          } catch (error) {\n",
              "            console.error('Error during call to suggestCharts:', error);\n",
              "          }\n",
              "          quickchartButtonEl.classList.remove('colab-df-spinner');\n",
              "          quickchartButtonEl.classList.add('colab-df-quickchart-complete');\n",
              "        }\n",
              "        (() => {\n",
              "          let quickchartButtonEl =\n",
              "            document.querySelector('#df-c7177aff-095b-4702-8b06-75defce63abe button');\n",
              "          quickchartButtonEl.style.display =\n",
              "            google.colab.kernel.accessAllowed ? 'block' : 'none';\n",
              "        })();\n",
              "      </script>\n",
              "    </div>\n",
              "\n",
              "    </div>\n",
              "  </div>\n"
            ],
            "application/vnd.google.colaboratory.intrinsic+json": {
              "type": "dataframe",
              "variable_name": "df",
              "summary": "{\n  \"name\": \"df\",\n  \"rows\": 2500,\n  \"fields\": [\n    {\n      \"column\": \"customerID\",\n      \"properties\": {\n        \"dtype\": \"string\",\n        \"num_unique_values\": 2500,\n        \"samples\": [\n          \"2951-QOQTK\",\n          \"3312-UUMZW\",\n          \"3800-LYTRK\"\n        ],\n        \"semantic_type\": \"\",\n        \"description\": \"\"\n      }\n    },\n    {\n      \"column\": \"Genero\",\n      \"properties\": {\n        \"dtype\": \"category\",\n        \"num_unique_values\": 5,\n        \"samples\": [\n          \"Male\",\n          \"f\",\n          \"F\"\n        ],\n        \"semantic_type\": \"\",\n        \"description\": \"\"\n      }\n    },\n    {\n      \"column\": \"Idoso\",\n      \"properties\": {\n        \"dtype\": \"number\",\n        \"std\": 0,\n        \"min\": 0,\n        \"max\": 1,\n        \"num_unique_values\": 2,\n        \"samples\": [\n          1,\n          0\n        ],\n        \"semantic_type\": \"\",\n        \"description\": \"\"\n      }\n    },\n    {\n      \"column\": \"Casado\",\n      \"properties\": {\n        \"dtype\": \"category\",\n        \"num_unique_values\": 2,\n        \"samples\": [\n          \"No\",\n          \"Yes\"\n        ],\n        \"semantic_type\": \"\",\n        \"description\": \"\"\n      }\n    },\n    {\n      \"column\": \"Dependents\",\n      \"properties\": {\n        \"dtype\": \"category\",\n        \"num_unique_values\": 2,\n        \"samples\": [\n          \"Yes\",\n          \"No\"\n        ],\n        \"semantic_type\": \"\",\n        \"description\": \"\"\n      }\n    },\n    {\n      \"column\": \"Tempo_como_Cliente\",\n      \"properties\": {\n        \"dtype\": \"number\",\n        \"std\": 24,\n        \"min\": 0,\n        \"max\": 72,\n        \"num_unique_values\": 73,\n        \"samples\": [\n          8,\n          40\n        ],\n        \"semantic_type\": \"\",\n        \"description\": \"\"\n      }\n    },\n    {\n      \"column\": \"PhoneService\",\n      \"properties\": {\n        \"dtype\": \"category\",\n        \"num_unique_values\": 2,\n        \"samples\": [\n          \"Yes\",\n          \"No\"\n        ],\n        \"semantic_type\": \"\",\n        \"description\": \"\"\n      }\n    },\n    {\n      \"column\": \"Servico_Internet\",\n      \"properties\": {\n        \"dtype\": \"category\",\n        \"num_unique_values\": 4,\n        \"samples\": [\n          \"Fiber optic\",\n          \"No\"\n        ],\n        \"semantic_type\": \"\",\n        \"description\": \"\"\n      }\n    },\n    {\n      \"column\": \"Servico_Seguranca\",\n      \"properties\": {\n        \"dtype\": \"category\",\n        \"num_unique_values\": 3,\n        \"samples\": [\n          \"No\",\n          \"Yes\"\n        ],\n        \"semantic_type\": \"\",\n        \"description\": \"\"\n      }\n    },\n    {\n      \"column\": \"Suporte_Tecnico\",\n      \"properties\": {\n        \"dtype\": \"category\",\n        \"num_unique_values\": 3,\n        \"samples\": [\n          \"No\",\n          \"Yes\"\n        ],\n        \"semantic_type\": \"\",\n        \"description\": \"\"\n      }\n    },\n    {\n      \"column\": \"StreamingTV\",\n      \"properties\": {\n        \"dtype\": \"category\",\n        \"num_unique_values\": 3,\n        \"samples\": [\n          \"No\",\n          \"Yes\"\n        ],\n        \"semantic_type\": \"\",\n        \"description\": \"\"\n      }\n    },\n    {\n      \"column\": \"Tipo_Contrato\",\n      \"properties\": {\n        \"dtype\": \"category\",\n        \"num_unique_values\": 3,\n        \"samples\": [\n          \"Month-to-month\",\n          \"One year\"\n        ],\n        \"semantic_type\": \"\",\n        \"description\": \"\"\n      }\n    },\n    {\n      \"column\": \"PaymentMethod\",\n      \"properties\": {\n        \"dtype\": \"category\",\n        \"num_unique_values\": 4,\n        \"samples\": [\n          \"Mailed check\",\n          \"Credit card (automatic)\"\n        ],\n        \"semantic_type\": \"\",\n        \"description\": \"\"\n      }\n    },\n    {\n      \"column\": \"Pagamento_Mensal\",\n      \"properties\": {\n        \"dtype\": \"number\",\n        \"std\": 29.931520109798708,\n        \"min\": 18.4,\n        \"max\": 118.65,\n        \"num_unique_values\": 1021,\n        \"samples\": [\n          43.65,\n          66.35\n        ],\n        \"semantic_type\": \"\",\n        \"description\": \"\"\n      }\n    },\n    {\n      \"column\": \"Total_Pago\",\n      \"properties\": {\n        \"dtype\": \"number\",\n        \"std\": 2265.3477524929344,\n        \"min\": 18.8,\n        \"max\": 8564.75,\n        \"num_unique_values\": 2428,\n        \"samples\": [\n          60.65,\n          521.35\n        ],\n        \"semantic_type\": \"\",\n        \"description\": \"\"\n      }\n    },\n    {\n      \"column\": \"Churn\",\n      \"properties\": {\n        \"dtype\": \"category\",\n        \"num_unique_values\": 2,\n        \"samples\": [\n          \"Yes\",\n          \"No\"\n        ],\n        \"semantic_type\": \"\",\n        \"description\": \"\"\n      }\n    }\n  ]\n}"
            }
          },
          "metadata": {},
          "execution_count": 2
        }
      ]
    },
    {
      "cell_type": "markdown",
      "source": [
        "Legenda dos dados:\n",
        "\n",
        "*   **CustomerID** : Esse é o ID único de cada cliente nosso da rede de produtos de telecomunicação.\n",
        "\n",
        "*   **Genero** : O genero dos nossos clientes.\n",
        "\n",
        "*   **Idoso** : Se nosso cliente tem acima de 60 anos ou não. (Sim = 1 | Não = 0)\n",
        "\n",
        "*   **Casado** : Se nosso cliente é casado ou não.\n",
        "\n",
        "*   **Dependents** : Se cliente tem dependentes.\n",
        "\n",
        "*   **Tempo_como_Cliente** : Tempo em meses que nosso cliente está com a nossa empresa.\n",
        "\n",
        "*   **PhoneService** : Se ele contratou serviço telefônico com a nossa empresa.\n",
        "\n",
        "*   **Servico_Internet** : Qual o tipo de serviço de internet contratado.\n",
        "\n",
        "*   **Servico_Seguranca** : Se ele contratou serviço de segurança com a nossa empresa.\n",
        "\n",
        "*   **Suporte_Tecnico** : Se já acionou o suporte técnico.\n",
        "\n",
        "*   **StreamingTV** : Se ele contratou serviço de streaming para TV.\n",
        "\n",
        "*   **Tipo_Contrato** : Qual o tipo de contrato dos nossos clientes, se era mensal, anual etc.\n",
        "\n",
        "*   **PaymentMethod** : Forma de Pagamento.\n",
        "\n",
        "*   **Pagamento_Mensal** : Quanto o cliente pagava mensalmente.\n",
        "\n",
        "*   **Total_Pago** : Total já pago pelo cliente para nossa companhia.\n",
        "\n",
        "*   **Churn** : Nossa coluna mais importante, se nosso cliente nos abandonou ou não.\n",
        "\n",
        "\n"
      ],
      "metadata": {
        "id": "-Cmll45c8TGu"
      }
    },
    {
      "cell_type": "markdown",
      "source": [
        "# 1 - Carregue a base, verifique se os tipos de dados estão de acordo com cada coluna e caso não estejam realize a transformação dos tipos de dados."
      ],
      "metadata": {
        "id": "2aZL5edn-Sxy"
      }
    },
    {
      "cell_type": "code",
      "source": [
        "print(df.info())"
      ],
      "metadata": {
        "id": "uVbeG6vJ-ao3",
        "colab": {
          "base_uri": "https://localhost:8080/"
        },
        "outputId": "060fed80-ff60-418a-b237-5214dc4cfccb"
      },
      "execution_count": 3,
      "outputs": [
        {
          "output_type": "stream",
          "name": "stdout",
          "text": [
            "<class 'pandas.core.frame.DataFrame'>\n",
            "RangeIndex: 2500 entries, 0 to 2499\n",
            "Data columns (total 16 columns):\n",
            " #   Column              Non-Null Count  Dtype  \n",
            "---  ------              --------------  -----  \n",
            " 0   customerID          2500 non-null   object \n",
            " 1   Genero              2488 non-null   object \n",
            " 2   Idoso               2500 non-null   int64  \n",
            " 3   Casado              2500 non-null   object \n",
            " 4   Dependents          2500 non-null   object \n",
            " 5   Tempo_como_Cliente  2500 non-null   int64  \n",
            " 6   PhoneService        1018 non-null   object \n",
            " 7   Servico_Internet    2500 non-null   object \n",
            " 8   Servico_Seguranca   2500 non-null   object \n",
            " 9   Suporte_Tecnico     2500 non-null   object \n",
            " 10  StreamingTV         2500 non-null   object \n",
            " 11  Tipo_Contrato       2500 non-null   object \n",
            " 12  PaymentMethod       2500 non-null   object \n",
            " 13  Pagamento_Mensal    2175 non-null   float64\n",
            " 14  Total_Pago          2500 non-null   float64\n",
            " 15  Churn               2495 non-null   object \n",
            "dtypes: float64(2), int64(2), object(12)\n",
            "memory usage: 312.6+ KB\n",
            "None\n"
          ]
        }
      ]
    },
    {
      "cell_type": "code",
      "source": [
        "dtype_mapping = {\n",
        "    'customerID': 'object',\n",
        "    'Genero': 'category',\n",
        "    'Idoso': 'int64',\n",
        "    'Casado': 'category',\n",
        "    'Dependents': 'category',\n",
        "    'Tempo_como_Cliente': 'int64',\n",
        "    'PhoneService': 'category',\n",
        "    'Servico_Internet': 'category',\n",
        "    'Servico_Seguranca': 'category',\n",
        "    'Suporte_Tecnico': 'category',\n",
        "    'StreamingTV': 'category',\n",
        "    'Tipo_Contrato': 'category',\n",
        "    'PaymentMethod': 'category',\n",
        "    'Pagamento_Mensal': 'float64',\n",
        "    'Total_Pago': 'float64',\n",
        "    'Churn': 'category'\n",
        "}\n"
      ],
      "metadata": {
        "id": "Z4mDE6c6HSGV"
      },
      "execution_count": 4,
      "outputs": []
    },
    {
      "cell_type": "code",
      "source": [
        "try:\n",
        "    df['Total_Pago'] = pd.to_numeric(df['Total_Pago'], errors='coerce')\n",
        "    df = df.astype(dtype_mapping)\n",
        "    print(\"\\nTipos de dados após a conversão:\")\n",
        "    print(df.info())\n",
        "\n",
        "    print(\"\\nTransformação concluída com sucesso.\")\n",
        "except Exception as e:\n",
        "    print(f\"\\nOcorreu um erro durante a transformação: {e}\")"
      ],
      "metadata": {
        "colab": {
          "base_uri": "https://localhost:8080/"
        },
        "id": "jY0ozoyeHWaS",
        "outputId": "7fce718c-4653-4eaf-e3de-59f49975d69c"
      },
      "execution_count": 5,
      "outputs": [
        {
          "output_type": "stream",
          "name": "stdout",
          "text": [
            "\n",
            "Tipos de dados após a conversão:\n",
            "<class 'pandas.core.frame.DataFrame'>\n",
            "RangeIndex: 2500 entries, 0 to 2499\n",
            "Data columns (total 16 columns):\n",
            " #   Column              Non-Null Count  Dtype   \n",
            "---  ------              --------------  -----   \n",
            " 0   customerID          2500 non-null   object  \n",
            " 1   Genero              2488 non-null   category\n",
            " 2   Idoso               2500 non-null   int64   \n",
            " 3   Casado              2500 non-null   category\n",
            " 4   Dependents          2500 non-null   category\n",
            " 5   Tempo_como_Cliente  2500 non-null   int64   \n",
            " 6   PhoneService        1018 non-null   category\n",
            " 7   Servico_Internet    2500 non-null   category\n",
            " 8   Servico_Seguranca   2500 non-null   category\n",
            " 9   Suporte_Tecnico     2500 non-null   category\n",
            " 10  StreamingTV         2500 non-null   category\n",
            " 11  Tipo_Contrato       2500 non-null   category\n",
            " 12  PaymentMethod       2500 non-null   category\n",
            " 13  Pagamento_Mensal    2175 non-null   float64 \n",
            " 14  Total_Pago          2500 non-null   float64 \n",
            " 15  Churn               2495 non-null   category\n",
            "dtypes: category(11), float64(2), int64(2), object(1)\n",
            "memory usage: 126.2+ KB\n",
            "None\n",
            "\n",
            "Transformação concluída com sucesso.\n"
          ]
        }
      ]
    },
    {
      "cell_type": "code",
      "source": [
        "print(df.head())"
      ],
      "metadata": {
        "colab": {
          "base_uri": "https://localhost:8080/"
        },
        "id": "T1z-4HfaHfg4",
        "outputId": "ccaac60d-f1d1-4ca5-9868-11880e1746ad"
      },
      "execution_count": 6,
      "outputs": [
        {
          "output_type": "stream",
          "name": "stdout",
          "text": [
            "   customerID  Genero  Idoso Casado Dependents  Tempo_como_Cliente  \\\n",
            "0  7590-VHVEG  Female      0    Yes         No                   1   \n",
            "1  5575-GNVDE    Male      0     No         No                  34   \n",
            "2  3668-QPYBK    Male      0     No         No                   2   \n",
            "3  7795-CFOCW    Male      0     No         No                  45   \n",
            "4  9237-HQITU     NaN      0     No         No                   2   \n",
            "\n",
            "  PhoneService Servico_Internet Servico_Seguranca Suporte_Tecnico StreamingTV  \\\n",
            "0           No              DSL                No              No          No   \n",
            "1          Yes              DSL               Yes              No          No   \n",
            "2          Yes              DSL               Yes              No          No   \n",
            "3           No              DSL               Yes             Yes          No   \n",
            "4          Yes      Fiber optic                No              No          No   \n",
            "\n",
            "    Tipo_Contrato              PaymentMethod  Pagamento_Mensal  Total_Pago  \\\n",
            "0  Month-to-month           Electronic check             29.85       29.85   \n",
            "1        One year               Mailed check             56.95     1889.50   \n",
            "2  Month-to-month               Mailed check             53.85      108.15   \n",
            "3        One year  Bank transfer (automatic)               NaN     1840.75   \n",
            "4  Month-to-month           Electronic check               NaN      151.65   \n",
            "\n",
            "  Churn  \n",
            "0    No  \n",
            "1    No  \n",
            "2   Yes  \n",
            "3    No  \n",
            "4   Yes  \n"
          ]
        }
      ]
    },
    {
      "cell_type": "markdown",
      "source": [
        "# 2 - Esse exercício faremos por etapas:\n",
        "A) Verifique se temos colunas com dados faltantes e traga a % dos dados faltantes por coluna."
      ],
      "metadata": {
        "id": "cu4kjiXn_w9t"
      }
    },
    {
      "cell_type": "code",
      "source": [
        "print(\"Porcentagem de dados faltantes por coluna antes da limpeza:\")\n",
        "missing_data_initial = df.isnull().sum()\n",
        "total_rows_initial = len(df)\n",
        "percentage_missing_initial = (missing_data_initial / total_rows_initial) * 100\n",
        "print(percentage_missing_initial.sort_values(ascending=False))\n",
        "print(\"-\" * 50)"
      ],
      "metadata": {
        "colab": {
          "base_uri": "https://localhost:8080/"
        },
        "id": "Zq88OlV8IUEH",
        "outputId": "e782ee1d-a6ce-4211-8e20-ee98831686b6"
      },
      "execution_count": 11,
      "outputs": [
        {
          "output_type": "stream",
          "name": "stdout",
          "text": [
            "Porcentagem de dados faltantes por coluna antes da limpeza:\n",
            "PhoneService          59.28\n",
            "Pagamento_Mensal      13.00\n",
            "Genero                 0.48\n",
            "Churn                  0.20\n",
            "Casado                 0.00\n",
            "Dependents             0.00\n",
            "Idoso                  0.00\n",
            "customerID             0.00\n",
            "Servico_Internet       0.00\n",
            "Tempo_como_Cliente     0.00\n",
            "Servico_Seguranca      0.00\n",
            "Suporte_Tecnico        0.00\n",
            "Tipo_Contrato          0.00\n",
            "StreamingTV            0.00\n",
            "PaymentMethod          0.00\n",
            "Total_Pago             0.00\n",
            "dtype: float64\n",
            "--------------------------------------------------\n"
          ]
        }
      ]
    },
    {
      "cell_type": "markdown",
      "source": [
        "B) Exclua nessa etapa as linhas das colunas com dados faltantes que você analisar que esse método é o ideal. Justifique o motivo de estar excluindo essas linhas."
      ],
      "metadata": {
        "id": "HzzZHCVO_8b9"
      }
    },
    {
      "cell_type": "markdown",
      "source": [
        "A análise do conjunto de dados revelou que algumas colunas têm uma porcentagem muito baixa de dados faltantes. Para as colunas 'Gênero' (0,48%) e 'Churn' (0,20%), a exclusão das linhas é o método ideal.\n",
        "\n",
        "Justificativa:\n",
        "\n",
        "Minimiza a perda de dados: Com uma porcentagem tão pequena de dados ausentes, remover as linhas que os contêm resulta em uma perda mínima de informação, o que não impacta a qualidade geral do seu conjunto de dados.\n",
        "\n",
        "Evita viés: Ao invés de preencher os valores com estimativas (como a média ou mediana), a exclusão garante que você está usando apenas dados reais, evitando a introdução de qualquer viés na sua análise."
      ],
      "metadata": {
        "id": "B6xuUNsvPTNJ"
      }
    },
    {
      "cell_type": "code",
      "source": [
        "df_cleaned = df.dropna(subset=['Genero', 'Churn'])\n",
        "\n",
        "# Exibindo os resultados da limpeza\n",
        "print(\"\\nDataFrame após a exclusão de linhas com dados faltantes nas colunas selecionadas:\")\n",
        "print(f\"Número de linhas original: {total_rows_initial}\")\n",
        "print(f\"Número de linhas após a remoção: {len(df_cleaned)}\")\n",
        "print(\"-\" * 50)"
      ],
      "metadata": {
        "id": "bDZTgNy8ECwu",
        "colab": {
          "base_uri": "https://localhost:8080/"
        },
        "outputId": "cb757bf3-2e65-4c7d-b306-6f0026caa6f7"
      },
      "execution_count": 12,
      "outputs": [
        {
          "output_type": "stream",
          "name": "stdout",
          "text": [
            "\n",
            "DataFrame após a exclusão de linhas com dados faltantes nas colunas selecionadas:\n",
            "Número de linhas original: 2500\n",
            "Número de linhas após a remoção: 2488\n",
            "--------------------------------------------------\n"
          ]
        }
      ]
    },
    {
      "cell_type": "code",
      "source": [
        "print(\"Porcentagem de dados faltantes por coluna após a limpeza:\")\n",
        "missing_data_final = df_cleaned.isnull().sum()\n",
        "total_rows_final = len(df_cleaned)\n",
        "percentage_missing_final = (missing_data_final / total_rows_final) * 100\n",
        "print(percentage_missing_final.sort_values(ascending=False))"
      ],
      "metadata": {
        "colab": {
          "base_uri": "https://localhost:8080/"
        },
        "id": "T3I9rC7DRVzf",
        "outputId": "b1e17fd4-5ac9-4506-ba63-05e116fef717"
      },
      "execution_count": 13,
      "outputs": [
        {
          "output_type": "stream",
          "name": "stdout",
          "text": [
            "Porcentagem de dados faltantes por coluna após a limpeza:\n",
            "PhoneService          59.565916\n",
            "Pagamento_Mensal      12.580386\n",
            "Idoso                  0.000000\n",
            "customerID             0.000000\n",
            "Casado                 0.000000\n",
            "Dependents             0.000000\n",
            "Tempo_como_Cliente     0.000000\n",
            "Genero                 0.000000\n",
            "Servico_Internet       0.000000\n",
            "Servico_Seguranca      0.000000\n",
            "StreamingTV            0.000000\n",
            "Suporte_Tecnico        0.000000\n",
            "Tipo_Contrato          0.000000\n",
            "PaymentMethod          0.000000\n",
            "Total_Pago             0.000000\n",
            "Churn                  0.000000\n",
            "dtype: float64\n"
          ]
        }
      ]
    },
    {
      "cell_type": "markdown",
      "source": [
        "C) Nessa etapa substitua pela média, mediana ou moda as linhas das colunas com valores faltantes que você analisou e entendeu que esse era o melhor método. Não se esqueça de justificar sua escolha."
      ],
      "metadata": {
        "id": "plAEzGoMAP16"
      }
    },
    {
      "cell_type": "markdown",
      "source": [
        "**Dica variáveis numéricas:** Não se esqueça de verificar a distrbuição dos dados, média e mediana."
      ],
      "metadata": {
        "id": "9S7O7GzoEevG"
      }
    },
    {
      "cell_type": "markdown",
      "source": [
        "**Dica variáveis categóricas:** Caso precise substituir uma variável categórica utilize um gráfico de barras para verificar a que mais aparece e utilizar ela na substituição.\n",
        "Ou você pode optar por excluir a coluna, mas justifique sua escolha.\n",
        "\n",
        "Caso opte por substituir você pode utilizar a função fillna:\n",
        "df['SUACOLUNA'].fillna(\"VALOR QUE SUBSTITUIRA O NULO\", inplace=True)\n",
        "Ela funcionará como a replace."
      ],
      "metadata": {
        "id": "MuhfrNV5FGDY"
      }
    },
    {
      "cell_type": "markdown",
      "source": [
        "'PhoneService': Esta coluna tem uma porcentagem extremamente alta de dados faltantes (59,28%). Imputar um número tão grande de valores com qualquer medida estatística (média, mediana ou moda) distorceria completamente a distribuição dos dados e criaria um viés artificial. A melhor prática é remover a coluna inteira, pois ela não pode fornecer uma contribuição significativa ou confiável para sua análise.\n",
        "\n",
        "'Pagamento_Mensal': Com 13% de dados ausentes, a exclusão das linhas seria uma perda considerável de informação. Para esta coluna, a imputação pela mediana é a abordagem ideal. A mediana é a melhor escolha porque é uma medida robusta, que não é afetada por valores extremos (outliers). Isso garante que o valor de preenchimento represente fielmente a tendência central dos dados existentes, sem distorções."
      ],
      "metadata": {
        "id": "ADJbAXq2S7kN"
      }
    },
    {
      "cell_type": "code",
      "source": [
        "\n",
        "print(\"Removendo a coluna 'PhoneService'...\")\n",
        "df = df.drop('PhoneService', axis=1)\n",
        "\n",
        "median_pagamento = df['Pagamento_Mensal'].median()\n",
        "df['Pagamento_Mensal'] = df['Pagamento_Mensal'].fillna(median_pagamento)\n",
        "\n",
        "\n",
        "print(\"\\n--- Informações do DataFrame após o tratamento ---\")\n",
        "print(df.info())\n",
        "\n",
        "print(\"\\nDados faltantes na coluna 'Pagamento_Mensal' após a imputação:\")\n",
        "print(f\"Valores nulos: {df['Pagamento_Mensal'].isnull().sum()}\")"
      ],
      "metadata": {
        "id": "f9xdpik_ERw1",
        "colab": {
          "base_uri": "https://localhost:8080/"
        },
        "outputId": "00c7a9f8-0fee-4bc7-b41b-f472a5343c96"
      },
      "execution_count": 15,
      "outputs": [
        {
          "output_type": "stream",
          "name": "stdout",
          "text": [
            "Removendo a coluna 'PhoneService'...\n",
            "\n",
            "--- Informações do DataFrame após o tratamento ---\n",
            "<class 'pandas.core.frame.DataFrame'>\n",
            "RangeIndex: 2500 entries, 0 to 2499\n",
            "Data columns (total 15 columns):\n",
            " #   Column              Non-Null Count  Dtype   \n",
            "---  ------              --------------  -----   \n",
            " 0   customerID          2500 non-null   object  \n",
            " 1   Genero              2488 non-null   category\n",
            " 2   Idoso               2500 non-null   int64   \n",
            " 3   Casado              2500 non-null   category\n",
            " 4   Dependents          2500 non-null   category\n",
            " 5   Tempo_como_Cliente  2500 non-null   int64   \n",
            " 6   Servico_Internet    2500 non-null   category\n",
            " 7   Servico_Seguranca   2500 non-null   category\n",
            " 8   Suporte_Tecnico     2500 non-null   category\n",
            " 9   StreamingTV         2500 non-null   category\n",
            " 10  Tipo_Contrato       2500 non-null   category\n",
            " 11  PaymentMethod       2500 non-null   category\n",
            " 12  Pagamento_Mensal    2500 non-null   float64 \n",
            " 13  Total_Pago          2500 non-null   float64 \n",
            " 14  Churn               2495 non-null   category\n",
            "dtypes: category(10), float64(2), int64(2), object(1)\n",
            "memory usage: 123.7+ KB\n",
            "None\n",
            "\n",
            "Dados faltantes na coluna 'Pagamento_Mensal' após a imputação:\n",
            "Valores nulos: 0\n"
          ]
        }
      ]
    },
    {
      "cell_type": "markdown",
      "source": [
        "# 3 - Verifique se encontramos valores digitados incorretamente, ou com letras maiusculas ou minusculas, ou até mesmo mesmos valores porém escritos de forma dirente e corrija."
      ],
      "metadata": {
        "id": "KyM7bzIWAevH"
      }
    },
    {
      "cell_type": "code",
      "source": [
        "# Exibindo valores únicos antes da limpeza\n",
        "print(\"Valores únicos na coluna 'Genero' antes da limpeza:\")\n",
        "print(df['Genero'].unique())\n",
        "print(\"\\nValores únicos na coluna 'Servico_Internet' antes da limpeza:\")\n",
        "print(df['Servico_Internet'].unique())\n",
        "print(\"-\" * 50)"
      ],
      "metadata": {
        "id": "pBLJpzXXGTcq",
        "colab": {
          "base_uri": "https://localhost:8080/"
        },
        "outputId": "35ad9992-960b-42de-cf4c-5f819c890c0c"
      },
      "execution_count": 17,
      "outputs": [
        {
          "output_type": "stream",
          "name": "stdout",
          "text": [
            "Valores únicos na coluna 'Genero' antes da limpeza:\n",
            "['Female', 'Male', NaN, 'F', 'M', 'f']\n",
            "Categories (5, object): ['F', 'Female', 'M', 'Male', 'f']\n",
            "\n",
            "Valores únicos na coluna 'Servico_Internet' antes da limpeza:\n",
            "['DSL', 'Fiber optic', 'dsl', 'No']\n",
            "Categories (4, object): ['DSL', 'Fiber optic', 'No', 'dsl']\n",
            "--------------------------------------------------\n"
          ]
        }
      ]
    },
    {
      "cell_type": "code",
      "source": [
        "# Padronizando a coluna 'Genero'\n",
        "# Substituindo 'M', 'F' e 'f' por 'Male' e 'Female'\n",
        "df['Genero'] = df['Genero'].replace({'M': 'Male', 'F': 'Female', 'f': 'Female'})\n",
        "\n",
        "# Padronizando a coluna 'Servico_Internet'\n",
        "# Padronizando a capitalização dos valores\n",
        "df['Servico_Internet'] = df['Servico_Internet'].str.title()\n",
        "# Corrigindo a grafia para a forma padrão 'DSL'\n",
        "df['Servico_Internet'] = df['Servico_Internet'].replace('Dsl', 'DSL')\n",
        "\n",
        "# Padronizando todas as outras colunas categóricas para evitar futuros problemas\n",
        "for col in df.columns:\n",
        "    if df[col].dtype == 'object':\n",
        "        df[col] = df[col].str.strip()\n",
        "        df[col] = df[col].str.title()"
      ],
      "metadata": {
        "colab": {
          "base_uri": "https://localhost:8080/"
        },
        "id": "JrwfOugITo21",
        "outputId": "592bb614-602d-4ffa-d297-da361a7f7ca0"
      },
      "execution_count": 18,
      "outputs": [
        {
          "output_type": "stream",
          "name": "stderr",
          "text": [
            "/tmp/ipython-input-2208126430.py:3: FutureWarning: The behavior of Series.replace (and DataFrame.replace) with CategoricalDtype is deprecated. In a future version, replace will only be used for cases that preserve the categories. To change the categories, use ser.cat.rename_categories instead.\n",
            "  df['Genero'] = df['Genero'].replace({'M': 'Male', 'F': 'Female', 'f': 'Female'})\n"
          ]
        }
      ]
    },
    {
      "cell_type": "code",
      "source": [
        "# Exibindo os valores únicos após a limpeza para confirmar as correções\n",
        "print(\"Valores únicos na coluna 'Genero' após a limpeza:\")\n",
        "print(df['Genero'].unique())\n",
        "print(\"\\nValores únicos na coluna 'Servico_Internet' após a limpeza:\")\n",
        "print(df['Servico_Internet'].unique())"
      ],
      "metadata": {
        "colab": {
          "base_uri": "https://localhost:8080/"
        },
        "id": "wEEHxjyZTvY1",
        "outputId": "195f9910-4af2-4c7d-d6a6-aacb8a359d54"
      },
      "execution_count": 19,
      "outputs": [
        {
          "output_type": "stream",
          "name": "stdout",
          "text": [
            "Valores únicos na coluna 'Genero' após a limpeza:\n",
            "['Female', 'Male', NaN]\n",
            "Categories (2, object): ['Female', 'Male']\n",
            "\n",
            "Valores únicos na coluna 'Servico_Internet' após a limpeza:\n",
            "['Dsl' 'Fiber Optic' 'No']\n"
          ]
        }
      ]
    },
    {
      "cell_type": "markdown",
      "source": [
        "# [EXTRA] 4 - Caso deseje, para manter um padrão na sua base, renomeie as colunas ou deixando em português, ou inglês."
      ],
      "metadata": {
        "id": "C-2vJktpA0r7"
      }
    },
    {
      "cell_type": "code",
      "source": [
        "rename_columns = {\n",
        "    'Genero': 'Gender',\n",
        "    'Idoso': 'SeniorCitizen',\n",
        "    'Casado': 'Married',\n",
        "    'Tempo_como_Cliente': 'Tenure',\n",
        "    'Servico_Internet': 'InternetService',\n",
        "    'Servico_Seguranca': 'OnlineSecurity',\n",
        "    'Suporte_Tecnico': 'TechSupport',\n",
        "    'StreamingTV': 'StreamingTV',\n",
        "    'Tipo_Contrato': 'Contract',\n",
        "    'Pagamento_Mensal': 'MonthlyCharges',\n",
        "    'Total_Pago': 'TotalCharges',\n",
        "    'Churn': 'Churn',\n",
        "    'customerID': 'CustomerID',\n",
        "    'PhoneService': 'PhoneService',\n",
        "    'Dependents': 'Dependents',\n",
        "    'PaymentMethod': 'PaymentMethod'\n",
        "}\n",
        "\n",
        "\n",
        "df.rename(columns=rename_columns, inplace=True)\n",
        "\n",
        "\n",
        "print(\"Nomes das colunas após a renomeação:\")\n",
        "print(df.columns)"
      ],
      "metadata": {
        "colab": {
          "base_uri": "https://localhost:8080/"
        },
        "id": "IiUzsJF6UAtc",
        "outputId": "c43593eb-719a-4b65-c742-2369d8fbf444"
      },
      "execution_count": 20,
      "outputs": [
        {
          "output_type": "stream",
          "name": "stdout",
          "text": [
            "Nomes das colunas após a renomeação:\n",
            "Index(['CustomerID', 'Gender', 'SeniorCitizen', 'Married', 'Dependents',\n",
            "       'Tenure', 'InternetService', 'OnlineSecurity', 'TechSupport',\n",
            "       'StreamingTV', 'Contract', 'PaymentMethod', 'MonthlyCharges',\n",
            "       'TotalCharges', 'Churn'],\n",
            "      dtype='object')\n"
          ]
        }
      ]
    }
  ]
}